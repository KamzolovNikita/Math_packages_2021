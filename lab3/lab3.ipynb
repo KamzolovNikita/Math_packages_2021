{
 "cells": [
  {
   "cell_type": "markdown",
   "metadata": {},
   "source": [
    "# Практическая работа №3: Практическое применение библиотеки символьных вычислений Python (SymPy) для решения задач дискретной математики и математической логики."
   ]
  },
  {
   "cell_type": "markdown",
   "metadata": {},
   "source": [
    "Выполнил студент гр. 9383 Камзолов Никита."
   ]
  },
  {
   "cell_type": "markdown",
   "metadata": {},
   "source": [
    "## Постановка задачи"
   ]
  },
  {
   "cell_type": "markdown",
   "metadata": {},
   "source": [
    "1. Решить свой вариант диофантова уравнения.\n",
    "2. Имея открытую часть ключа RSA найти соответствующую закрытую часть и расшифровать кодированное слово.\n",
    "3. Записать в формате ДНФ и КНФ булеву функцию, заданную своим аналитическим выражением."
   ]
  },
  {
   "cell_type": "markdown",
   "metadata": {},
   "source": [
    "## Выполнение работы"
   ]
  },
  {
   "cell_type": "markdown",
   "metadata": {},
   "source": [
    "### 1. Решение диофантова уравнения\n",
    "\n",
    "$2125x - 2737y = 34$"
   ]
  },
  {
   "cell_type": "code",
   "execution_count": 1,
   "metadata": {},
   "outputs": [],
   "source": [
    "from sympy.solvers.diophantine.diophantine import diop_solve\n",
    "from sympy import symbols"
   ]
  },
  {
   "cell_type": "code",
   "execution_count": 2,
   "metadata": {},
   "outputs": [
    {
     "name": "stdout",
     "output_type": "stream",
     "text": [
      "Множество всех решений: (161*t_0 + 152, 125*t_0 + 118)\n"
     ]
    }
   ],
   "source": [
    "x, y = symbols(\"x, y\", integer=True)\n",
    "print(\"Множество всех решений:\", diop_solve(2125*x-2737*y-34))"
   ]
  },
  {
   "cell_type": "markdown",
   "metadata": {},
   "source": [
    "Частное решение: $(152, 118)$"
   ]
  },
  {
   "cell_type": "markdown",
   "metadata": {},
   "source": [
    "### 2. RSA-дешифрование"
   ]
  },
  {
   "cell_type": "markdown",
   "metadata": {},
   "source": [
    "Русское слово из четырех букв закодировано при помощи алгоритма RSA открытым ключом (e = 5,m = 39).\n",
    "Шифрованное сообщение имеет вид    (22; 14; 37; 3). Подберите закрытую часть ключа и прочитайте исходное слово.\n",
    "Буквам русского алфавита соответсвуют числа в диапазоне от 2 до 32 (исключены буквы “ё” и “ъ”)."
   ]
  },
  {
   "cell_type": "code",
   "execution_count": 3,
   "metadata": {
    "scrolled": false
   },
   "outputs": [
    {
     "name": "stdout",
     "output_type": "stream",
     "text": [
      "True\n"
     ]
    }
   ],
   "source": [
    "from sympy.crypto.crypto import decipher_rsa\n",
    "from sympy.crypto.crypto import rsa_private_key\n",
    "\n",
    "m = 39\n",
    "e = 5\n",
    "\n",
    "#Разложим m на простейшие\n",
    "p = 3\n",
    "q = 13\n",
    "print(m == p*q)"
   ]
  },
  {
   "cell_type": "code",
   "execution_count": 4,
   "metadata": {},
   "outputs": [
    {
     "name": "stdout",
     "output_type": "stream",
     "text": [
      "[16, 14, 7, 9]\n"
     ]
    }
   ],
   "source": [
    "private_key = rsa_private_key(p, q, e)\n",
    "\n",
    "encrypted_word = [22, 14, 37, 3]\n",
    "word = []\n",
    "for value in encrypted_word:\n",
    "    word.append(decipher_rsa(value, private_key))\n",
    "print(word)"
   ]
  },
  {
   "cell_type": "markdown",
   "metadata": {},
   "source": [
    "Зашифрованное слово: ОМЕЗ"
   ]
  },
  {
   "cell_type": "markdown",
   "metadata": {},
   "source": [
    "### 3. Запись в формате ДНФ и КНФ булевой функции, заданной аналитическим выражением.\n",
    "$f(x, y, z) = ((xy)\\vee (z\\vee y))\\ xor\\ ((x\\ xor\\ z)y)$"
   ]
  },
  {
   "cell_type": "code",
   "execution_count": 5,
   "metadata": {},
   "outputs": [],
   "source": [
    "from sympy.logic.boolalg import to_cnf, to_dnf, Xor\n",
    "from sympy.abc import X, Y, Z"
   ]
  },
  {
   "cell_type": "code",
   "execution_count": 6,
   "metadata": {},
   "outputs": [],
   "source": [
    "f = (Xor(((X & Y) | (Z | Y)), Xor(X,Z) & Y))"
   ]
  },
  {
   "cell_type": "markdown",
   "metadata": {},
   "source": [
    "#### Конъюктивная нормальная форма:"
   ]
  },
  {
   "cell_type": "code",
   "execution_count": 7,
   "metadata": {},
   "outputs": [
    {
     "data": {
      "text/latex": [
       "$\\displaystyle \\left(Y \\vee Z\\right) \\wedge \\left(Z \\vee \\neg X\\right) \\wedge \\left(X \\vee \\neg Y \\vee \\neg Z\\right)$"
      ],
      "text/plain": [
       "(Y | Z) & (Z | ~X) & (X | ~Y | ~Z)"
      ]
     },
     "execution_count": 7,
     "metadata": {},
     "output_type": "execute_result"
    }
   ],
   "source": [
    "to_cnf(f, simplify = True)"
   ]
  },
  {
   "cell_type": "markdown",
   "metadata": {},
   "source": [
    "#### Дизъюнктивная нормальная форма:"
   ]
  },
  {
   "cell_type": "code",
   "execution_count": 8,
   "metadata": {},
   "outputs": [
    {
     "data": {
      "text/latex": [
       "$\\displaystyle \\left(X \\wedge Z\\right) \\vee \\left(Z \\wedge \\neg Y\\right) \\vee \\left(Y \\wedge \\neg X \\wedge \\neg Z\\right)$"
      ],
      "text/plain": [
       "(X & Z) | (Z & ~Y) | (Y & ~X & ~Z)"
      ]
     },
     "execution_count": 8,
     "metadata": {},
     "output_type": "execute_result"
    }
   ],
   "source": [
    "to_dnf(f, simplify = True)"
   ]
  },
  {
   "cell_type": "markdown",
   "metadata": {},
   "source": [
    "### Вывод."
   ]
  },
  {
   "cell_type": "markdown",
   "metadata": {},
   "source": [
    "Практически применена библиотека символьных вычислений Python (SymPy) для решения задач дискретной математики и математической логики."
   ]
  }
 ],
 "metadata": {
  "kernelspec": {
   "display_name": "Python 3",
   "language": "python",
   "name": "python3"
  },
  "language_info": {
   "codemirror_mode": {
    "name": "ipython",
    "version": 3
   },
   "file_extension": ".py",
   "mimetype": "text/x-python",
   "name": "python",
   "nbconvert_exporter": "python",
   "pygments_lexer": "ipython3",
   "version": "3.8.8"
  }
 },
 "nbformat": 4,
 "nbformat_minor": 4
}
